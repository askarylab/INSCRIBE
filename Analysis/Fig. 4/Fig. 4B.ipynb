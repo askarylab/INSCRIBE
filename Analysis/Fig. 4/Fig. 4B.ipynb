{
 "cells": [
  {
   "cell_type": "code",
   "execution_count": 1,
   "metadata": {
    "id": "a96s0FMSjJ4m"
   },
   "outputs": [],
   "source": [
    "import numpy as np\n",
    "import pandas as pd\n",
    "from scipy import stats\n",
    "\n",
    "import sys\n",
    "import string\n",
    "from io import StringIO\n",
    "import re\n",
    "\n",
    "import matplotlib.pyplot as plt\n",
    "from matplotlib import colors\n",
    "import seaborn as sns"
   ]
  },
  {
   "cell_type": "code",
   "execution_count": 2,
   "metadata": {
    "id": "7C1ICE9hcgvP"
   },
   "outputs": [],
   "source": [
    "# From SAM/BAM files\n",
    "# Each CIGAR string is a series of operations and lengths,and each operation is followed by the length of the operation.\n",
    "# a CIGAR string 10M2I3D represents an alignment with 10 matches, 2 insertions, and 3 deletions. \n",
    "def cigarToList(cigar):\n",
    "    ''' Parse CIGAR string into a list of CIGAR operations.  For more\n",
    "        info on CIGAR operations, see SAM spec:\n",
    "        http://samtools.sourceforge.net/SAMv1.pdf '''\n",
    "    ret, i = [], 0\n",
    "    op_map = {'M':0, # match or mismatch\n",
    "              '=':0, # match\n",
    "              'X':0, # mismatch\n",
    "              'I':1, # insertion in read w/r/t reference\n",
    "              'D':2, # deletion in read w/r/t reference\n",
    "              'N':3, # long gap due e.g. to splice junction\n",
    "              'S':4, # soft clipping due e.g. to local alignment(clipped sequence present in SEQ)\n",
    "              'H':5, # hard clipping (clipped sequence not present in SEQ)\n",
    "              'P':6} # padding\n",
    "    # Seems like = and X together are strictly more expressive than M.\n",
    "    # Why not just have = and X and get rid of M?  Space efficiency,\n",
    "    # mainly.  The titans discuss: http://www.biostars.org/p/17043/\n",
    "    while i < len(cigar):\n",
    "        run = 0\n",
    "        while i < len(cigar) and cigar[i].isdigit():\n",
    "            # parse one more digit of run length\n",
    "            run *= 10\n",
    "            run += int(cigar[i])\n",
    "            i += 1\n",
    "        assert i < len(cigar)\n",
    "        # parse cigar operation\n",
    "        op = cigar[i]\n",
    "        i += 1\n",
    "        assert op in op_map\n",
    "        # append to result\n",
    "        ret.append([op_map[op], run])#op_map[op] maps the CIGAR operation character to its integer code, run is the parsed run length for the operation.\n",
    "    return ret"
   ]
  },
  {
   "cell_type": "code",
   "execution_count": 3,
   "metadata": {
    "id": "Cm15_AdJcnuO"
   },
   "outputs": [],
   "source": [
    "def mdzToList(md):\n",
    "    ''' Parse MD:Z string into a list of operations, where 0=match,\n",
    "        1=read gap, 2=mismatch. '''\n",
    "    i = 0;\n",
    "    ret = [] # list of (op, run, str) tuples\n",
    "    while i < len(md):\n",
    "        if md[i].isdigit(): # stretch of matches\n",
    "            run = 0\n",
    "            while i < len(md) and md[i].isdigit():\n",
    "                run *= 10\n",
    "                run += int(md[i])\n",
    "                i += 1 # skip over digit\n",
    "            if run > 0:\n",
    "                ret.append([0, run, \"\"])\n",
    "        elif md[i].isalpha(): # stretch of mismatches\n",
    "            mmstr = \"\"\n",
    "            while i < len(md) and md[i].isalpha():\n",
    "                mmstr += md[i]\n",
    "                i += 1\n",
    "            assert len(mmstr) > 0\n",
    "            ret.append([1, len(mmstr), mmstr])\n",
    "        elif md[i] == \"^\": # read gap\n",
    "            i += 1 # skip over ^\n",
    "            refstr = \"\"\n",
    "            while i < len(md) and md[i].isalpha():\n",
    "                refstr += md[i]\n",
    "                i += 1 # skip over inserted character\n",
    "            assert len(refstr) > 0\n",
    "            ret.append([2, len(refstr), refstr])\n",
    "        else:\n",
    "            raise RuntimeError('Unexpected character in MD:Z: \"%d\"' % md[i])\n",
    "    return ret"
   ]
  },
  {
   "cell_type": "code",
   "execution_count": 4,
   "metadata": {
    "id": "RdtXaP1OcrJX"
   },
   "outputs": [],
   "source": [
    "def cigarMdzToStacked(seq, cgp, mdp_orig):\n",
    "    ''' Takes parsed CIGAR and parsed MD:Z, generates a stacked alignment:\n",
    "        a pair of strings with gap characters inserted (possibly) and where\n",
    "        characters at at the same offsets are opposite each other in the\n",
    "        alignment.  Only knows how to handle CIGAR ops M=XDINSH right now.\n",
    "    '''\n",
    "    mdp = mdp_orig[:]\n",
    "    rds, rfs = [], []\n",
    "    mdo, rdoff = 0, 0\n",
    "    for c in cgp:\n",
    "        op, run = c\n",
    "        skipping = (op == 4 or op == 5)\n",
    "        assert skipping or mdo < len(mdp)\n",
    "        if op == 0: # CIGAR op M, = or X\n",
    "            # Look for block matches and mismatches in MD:Z string\n",
    "            mdrun = 0\n",
    "            runleft = run\n",
    "            while runleft > 0 and mdo < len(mdp):\n",
    "                op_m, run_m, st_m = mdp[mdo]\n",
    "                run_comb = min(runleft, run_m)\n",
    "                runleft -= run_comb\n",
    "                assert op_m == 0 or op_m == 1\n",
    "                rds.append(seq[rdoff:rdoff + run_comb])\n",
    "                if op_m == 0: # match from MD:Z string\n",
    "                    rfs.append(seq[rdoff:rdoff + run_comb])\n",
    "                else: # mismatch from MD:Z string\n",
    "                    assert len(st_m) == run_comb\n",
    "                    rfs.append(st_m)\n",
    "                mdrun += run_comb\n",
    "                rdoff += run_comb\n",
    "                # Stretch of matches in MD:Z could span M and I CIGAR ops\n",
    "                if run_comb < run_m:\n",
    "                    assert op_m == 0\n",
    "                    mdp[mdo][1] -= run_comb\n",
    "                else:\n",
    "                    mdo += 1\n",
    "        elif op == 1: # CIGAR op I\n",
    "            rds.append(seq[rdoff:rdoff + run])\n",
    "            rfs.append(\"-\" * run)\n",
    "            rdoff += run\n",
    "        elif op == 2: # D\n",
    "            op_m, run_m, st_m = mdp[mdo]\n",
    "            assert op_m == 2\n",
    "            assert run == run_m\n",
    "            assert len(st_m) == run\n",
    "            mdo += 1\n",
    "            rds.append(\"-\" * run)\n",
    "            rfs.append(st_m)\n",
    "        elif op == 3: # N\n",
    "            rds.append(\"-\" * run)\n",
    "            rfs.append(\"-\" * run)\n",
    "        elif op == 4: # S\n",
    "            rds.append(seq[rdoff:rdoff + run].lower())\n",
    "            rfs.append(' ' * run)\n",
    "            rdoff += run\n",
    "        elif op == 5: # H\n",
    "            rds.append('!' * run)\n",
    "            rfs.append(' ' * run)\n",
    "        elif op == 6: # P\n",
    "            raise RuntimeError(\"Don't know how to handle P in CIGAR\")\n",
    "        else:\n",
    "            raise RuntimeError('Unexpected CIGAR op: %d' % op)\n",
    "    assert mdo == len(mdp)\n",
    "    return ''.join(rds), ''.join(rfs)"
   ]
  },
  {
   "cell_type": "code",
   "execution_count": 19,
   "metadata": {},
   "outputs": [],
   "source": [
    "data_path = '/Users/haokai/Desktop/Github repository/Processed data/Fig. 4/'"
   ]
  },
  {
   "cell_type": "code",
   "execution_count": 20,
   "metadata": {},
   "outputs": [],
   "source": [
    "# The edit state of reference_plasmid is 001011011100 \n",
    "samPath = ['WntR_Rep1.sam','WntR_Rep2.sam','WntR_Rep3.sam','WntR_Control.sam','Reference_plasmid.sam']"
   ]
  },
  {
   "cell_type": "code",
   "execution_count": 21,
   "metadata": {
    "id": "ZKyTZOcOiQMr"
   },
   "outputs": [],
   "source": [
    "# extract relevant information from the SAM file and make stacked alignments\n",
    "\n",
    "multi_align = []\n",
    "not_aligned = []\n",
    "for p in samPath:\n",
    "  multi_al = []\n",
    "  not_al = []\n",
    "  with open(data_path+p) as fp:\n",
    "      for c,ln in enumerate(fp):\n",
    "        if ln[0] != '@':\n",
    "          qname, flag, rname, pos, mapq, cigar, rnext, \\\n",
    "          pnext, tlen, seq, qual, extras = str.split(ln, '\\t', 11)\n",
    "          MDZ = re.findall('MD:Z:(.*?)\\t',extras)\n",
    "          if len(MDZ) != 1:\n",
    "            not_al.append([c,len(MDZ)])\n",
    "          else:\n",
    "            multi_al.append([c,cigarMdzToStacked(seq, cigarToList(cigar), mdzToList(MDZ[0])),int(pos)])\n",
    "  multi_align.append(multi_al)\n",
    "  not_aligned.append(not_al)"
   ]
  },
  {
   "cell_type": "code",
   "execution_count": 22,
   "metadata": {
    "id": "sQzbgXfliQPS"
   },
   "outputs": [],
   "source": [
    "#extracting full-length barcode sequences based on specific 5' (ref_5p) and 3' (ref_3p) reference sequences from aligned reads in multi_align\n",
    "ref_5p = 'agcgaaTGCC'.upper()\n",
    "ref_3p = 'AACTcccttt'.upper()\n",
    "\n",
    "al = []\n",
    "for sample in range(5):\n",
    "  complete_5p = np.array([ref_5p in multi_align[sample][i][1][1].replace('-','') for i in range(len(multi_align[sample]))])\n",
    "  complete_3p = np.array([ref_3p in multi_align[sample][i][1][1].replace('-','') for i in range(len(multi_align[sample]))])\n",
    "\n",
    "  full_length = complete_5p*complete_3p\n",
    "  arr_len = []\n",
    "  for i, read in enumerate(multi_align[sample]):\n",
    "    if full_length[i]:\n",
    "      pattern_5p = 'A-*G-*C-*G-*A-*A-*T-*G-*C-*C'\n",
    "      pattern_3p = 'A-*A-*C-*T-*C-*C-*C-*T-*T-*T'\n",
    "      start = re.search(pattern_5p, read[1][1]).end()\n",
    "      end = re.search(pattern_3p, read[1][1]).start()\n",
    "      arr_len.append(len(read[1][0][start:end].replace('-','')))\n",
    "\n",
    "  al.append(arr_len)"
   ]
  },
  {
   "cell_type": "code",
   "execution_count": 23,
   "metadata": {
    "colab": {
     "base_uri": "https://localhost:8080/"
    },
    "id": "pDFKMktB1g21",
    "outputId": "ba90440c-b698-4af9-8e77-64a1fdefb9b8"
   },
   "outputs": [
    {
     "data": {
      "text/plain": [
       "['WntR_Rep1.sam',\n",
       " 'WntR_Rep2.sam',\n",
       " 'WntR_Rep3.sam',\n",
       " 'WntR_Control.sam',\n",
       " 'Reference_plasmid.sam']"
      ]
     },
     "execution_count": 23,
     "metadata": {},
     "output_type": "execute_result"
    }
   ],
   "source": [
    "samPath"
   ]
  },
  {
   "cell_type": "code",
   "execution_count": 24,
   "metadata": {},
   "outputs": [
    {
     "data": {
      "text/html": [
       "<div>\n",
       "<style scoped>\n",
       "    .dataframe tbody tr th:only-of-type {\n",
       "        vertical-align: middle;\n",
       "    }\n",
       "\n",
       "    .dataframe tbody tr th {\n",
       "        vertical-align: top;\n",
       "    }\n",
       "\n",
       "    .dataframe thead th {\n",
       "        text-align: right;\n",
       "    }\n",
       "</style>\n",
       "<table border=\"1\" class=\"dataframe\">\n",
       "  <thead>\n",
       "    <tr style=\"text-align: right;\">\n",
       "      <th></th>\n",
       "      <th>WntR_Rep1</th>\n",
       "      <th>WntR_Rep2</th>\n",
       "      <th>WntR_Rep3</th>\n",
       "      <th>WntR_Control</th>\n",
       "      <th>Reference_plasmid</th>\n",
       "    </tr>\n",
       "  </thead>\n",
       "  <tbody>\n",
       "    <tr>\n",
       "      <th>0</th>\n",
       "      <td>415.0</td>\n",
       "      <td>416.0</td>\n",
       "      <td>418.0</td>\n",
       "      <td>417.0</td>\n",
       "      <td>420</td>\n",
       "    </tr>\n",
       "    <tr>\n",
       "      <th>1</th>\n",
       "      <td>415.0</td>\n",
       "      <td>416.0</td>\n",
       "      <td>413.0</td>\n",
       "      <td>416.0</td>\n",
       "      <td>416</td>\n",
       "    </tr>\n",
       "    <tr>\n",
       "      <th>2</th>\n",
       "      <td>452.0</td>\n",
       "      <td>417.0</td>\n",
       "      <td>416.0</td>\n",
       "      <td>417.0</td>\n",
       "      <td>416</td>\n",
       "    </tr>\n",
       "    <tr>\n",
       "      <th>3</th>\n",
       "      <td>417.0</td>\n",
       "      <td>417.0</td>\n",
       "      <td>382.0</td>\n",
       "      <td>416.0</td>\n",
       "      <td>419</td>\n",
       "    </tr>\n",
       "    <tr>\n",
       "      <th>4</th>\n",
       "      <td>418.0</td>\n",
       "      <td>413.0</td>\n",
       "      <td>418.0</td>\n",
       "      <td>416.0</td>\n",
       "      <td>416</td>\n",
       "    </tr>\n",
       "    <tr>\n",
       "      <th>...</th>\n",
       "      <td>...</td>\n",
       "      <td>...</td>\n",
       "      <td>...</td>\n",
       "      <td>...</td>\n",
       "      <td>...</td>\n",
       "    </tr>\n",
       "    <tr>\n",
       "      <th>2066</th>\n",
       "      <td>NaN</td>\n",
       "      <td>NaN</td>\n",
       "      <td>NaN</td>\n",
       "      <td>NaN</td>\n",
       "      <td>419</td>\n",
       "    </tr>\n",
       "    <tr>\n",
       "      <th>2067</th>\n",
       "      <td>NaN</td>\n",
       "      <td>NaN</td>\n",
       "      <td>NaN</td>\n",
       "      <td>NaN</td>\n",
       "      <td>416</td>\n",
       "    </tr>\n",
       "    <tr>\n",
       "      <th>2068</th>\n",
       "      <td>NaN</td>\n",
       "      <td>NaN</td>\n",
       "      <td>NaN</td>\n",
       "      <td>NaN</td>\n",
       "      <td>521</td>\n",
       "    </tr>\n",
       "    <tr>\n",
       "      <th>2069</th>\n",
       "      <td>NaN</td>\n",
       "      <td>NaN</td>\n",
       "      <td>NaN</td>\n",
       "      <td>NaN</td>\n",
       "      <td>416</td>\n",
       "    </tr>\n",
       "    <tr>\n",
       "      <th>2070</th>\n",
       "      <td>NaN</td>\n",
       "      <td>NaN</td>\n",
       "      <td>NaN</td>\n",
       "      <td>NaN</td>\n",
       "      <td>416</td>\n",
       "    </tr>\n",
       "  </tbody>\n",
       "</table>\n",
       "<p>2071 rows × 5 columns</p>\n",
       "</div>"
      ],
      "text/plain": [
       "      WntR_Rep1  WntR_Rep2  WntR_Rep3  WntR_Control  Reference_plasmid\n",
       "0         415.0      416.0      418.0         417.0                420\n",
       "1         415.0      416.0      413.0         416.0                416\n",
       "2         452.0      417.0      416.0         417.0                416\n",
       "3         417.0      417.0      382.0         416.0                419\n",
       "4         418.0      413.0      418.0         416.0                416\n",
       "...         ...        ...        ...           ...                ...\n",
       "2066        NaN        NaN        NaN           NaN                419\n",
       "2067        NaN        NaN        NaN           NaN                416\n",
       "2068        NaN        NaN        NaN           NaN                521\n",
       "2069        NaN        NaN        NaN           NaN                416\n",
       "2070        NaN        NaN        NaN           NaN                416\n",
       "\n",
       "[2071 rows x 5 columns]"
      ]
     },
     "execution_count": 24,
     "metadata": {},
     "output_type": "execute_result"
    }
   ],
   "source": [
    "# Sample names corresponding to each list in `al`\n",
    "sample_names = ['WntR_Rep1', 'WntR_Rep2', 'WntR_Rep3', 'WntR_Control', 'Reference_plasmid']\n",
    "\n",
    "# Create a dictionary where each sample is a column\n",
    "al_dict = {sample_names[i]: al[i] for i in range(len(sample_names))}\n",
    "\n",
    "# Convert to a DataFrame (this creates a long format where missing values are NaN)\n",
    "df_al = pd.DataFrame(dict([(k, pd.Series(v)) for k, v in al_dict.items()]))\n",
    "\n",
    "# Print the DataFrame\n",
    "df_al"
   ]
  },
  {
   "cell_type": "code",
   "execution_count": 25,
   "metadata": {},
   "outputs": [
    {
     "data": {
      "text/plain": [
       "WntR_Rep1            1086\n",
       "WntR_Rep2            1345\n",
       "WntR_Rep3            1223\n",
       "WntR_Control         1541\n",
       "Reference_plasmid    2071\n",
       "dtype: int64"
      ]
     },
     "execution_count": 25,
     "metadata": {},
     "output_type": "execute_result"
    }
   ],
   "source": [
    "df_al.count()"
   ]
  },
  {
   "cell_type": "code",
   "execution_count": 18,
   "metadata": {
    "collapsed": true,
    "jupyter": {
     "outputs_hidden": true,
     "source_hidden": true
    },
    "tags": []
   },
   "outputs": [
    {
     "name": "stdout",
     "output_type": "stream",
     "text": [
      "Color 1: (0.10231025194333628, 0.13952898866828906, 0.2560120319409181)\n",
      "Color 2: (0.10594361078604106, 0.3809739011595331, 0.27015111282899046)\n",
      "Color 3: (0.4106130272672762, 0.48044780541672255, 0.1891154277778484)\n",
      "Color 4: (0.7829183382530567, 0.48158303462490826, 0.48672451968362596)\n",
      "Color 5: (0.8046168329276406, 0.6365733569301846, 0.8796578402926125)\n",
      "Color 6: (0.7775608374378459, 0.8840392521212448, 0.9452007992345052)\n"
     ]
    },
    {
     "data": {
      "image/png": "[encoded data removed]",
      "text/plain": [
       "<Figure size 350x350 with 1 Axes>"
      ]
     },
     "metadata": {},
     "output_type": "display_data"
    }
   ],
   "source": [
    "import seaborn as sns\n",
    "import matplotlib.pyplot as plt\n",
    "\n",
    "# Create a custom palette using the cubehelix palette with 5 colors\n",
    "custom_palette = sns.color_palette(\"cubehelix\", 6)\n",
    "\n",
    "# Access individual colors\n",
    "color_1 = custom_palette[0]\n",
    "color_2 = custom_palette[1]\n",
    "color_3 = custom_palette[2]\n",
    "color_4 = custom_palette[3]\n",
    "color_5 = custom_palette[4]\n",
    "color_6 = custom_palette[5]\n",
    "\n",
    "# Print the RGB values of the colors\n",
    "print(\"Color 1:\", color_1)\n",
    "print(\"Color 2:\", color_2)\n",
    "print(\"Color 3:\", color_3)\n",
    "print(\"Color 4:\", color_4)\n",
    "print(\"Color 5:\", color_5)\n",
    "print(\"Color 6:\", color_6)\n",
    "\n",
    "# Example plot using individual colors\n",
    "plt.figure(figsize=(5, 5), dpi=70)\n",
    "\n",
    "# Plotting with individual colors from the custom palette\n",
    "plt.plot([0, 1], [0, 1], color=color_1, label='Color 1')\n",
    "plt.plot([0, 1], [1, 0], color=color_2, label='Color 2')\n",
    "plt.plot([0, 1], [0.5, 0.5], color=color_3, label='Color 3')\n",
    "plt.plot([0, 1], [0.25, 0.75], color=color_4, label='Color 4')\n",
    "plt.plot([0, 1], [0.75, 0.25], color=color_5, label='Color 5')\n",
    "plt.plot([1, 1], [1, 1], color=color_6, label='Color 6')\n",
    "\n",
    "# Adding legend and displaying the plot\n",
    "plt.legend()\n",
    "plt.show()"
   ]
  },
  {
   "cell_type": "code",
   "execution_count": 28,
   "metadata": {},
   "outputs": [],
   "source": [
    "# Set the font properties\n",
    "plt.rcParams.update({\n",
    "    'font.family': 'Arial',     # Set the font family\n",
    "    'font.size': 12,            # Set the base font size\n",
    "    'axes.titlesize': 16,       # Set the font size of the axes title\n",
    "    'axes.labelsize': 16,       # Set the font size of the x and y labels\n",
    "    'xtick.labelsize': 12,      # Set the font size of the x tick labels\n",
    "    'ytick.labelsize': 12,      # Set the font size of the y tick labels\n",
    "    'legend.fontsize': 12,      # Set the font size of the legend\n",
    "    'figure.titlesize': 16      # Set the font size of the figure title\n",
    "})"
   ]
  },
  {
   "cell_type": "markdown",
   "metadata": {},
   "source": [
    "# Fig 4B"
   ]
  },
  {
   "cell_type": "code",
   "execution_count": 31,
   "metadata": {},
   "outputs": [
    {
     "data": {
      "image/png": "[encoded data removed]",
      "text/plain": [
       "<Figure size 350x350 with 1 Axes>"
      ]
     },
     "metadata": {},
     "output_type": "display_data"
    }
   ],
   "source": [
    "import matplotlib.pyplot as plt\n",
    "import seaborn as sns\n",
    "import numpy as np\n",
    "import os\n",
    "\n",
    "custom_palette = sns.color_palette(\"cubehelix\", 5)\n",
    "\n",
    "# Create a figure and axes\n",
    "fig, ax = plt.subplots(figsize=(5, 5), dpi=70)\n",
    "\n",
    "# Plot the histograms with specified colors\n",
    "#sns.histplot(al[4], discrete=True, stat='percent', element='step', alpha=1, fill=False, ax=ax, color=custom_palette[0], label='BC8_array', linewidth=1)\n",
    "sns.histplot(al[4], discrete=True, stat='percent', element='step', alpha=0.5, fill=False, ax=ax, color=custom_palette[0], label='Reference_plasmid', linewidth=1.25, multiple=\"stack\")\n",
    "sns.histplot(al[0], discrete=True, stat='percent', element='step', alpha=0.75, fill=False, ax=ax, color=custom_palette[1], label='WntR_Rep1', linewidth=1.25, multiple=\"stack\")\n",
    "sns.histplot(al[1], discrete=True, stat='percent', element='step', alpha=0.75, fill=False, ax=ax, color=custom_palette[2], label='WntR_Rep2', linewidth=1.25, multiple=\"stack\")\n",
    "sns.histplot(al[2], discrete=True, stat='percent', element='step', alpha=0.75, fill=False, ax=ax, color=custom_palette[3], label='WntR_Rep3', linewidth=1.25, multiple=\"stack\")\n",
    "sns.histplot(al[3], discrete=True, stat='percent', element='step', alpha=0.75, fill=False, ax=ax, color=custom_palette[4], label='WntR_Control', linewidth=1.25, multiple=\"stack\")\n",
    "\n",
    "\n",
    "\n",
    "# Customize the plot\n",
    "ax.set_xlabel(\"Barcode array length\")\n",
    "ax.set_ylabel(\"Reads percentage\")\n",
    "\n",
    "# Adjust the tick labels rotation\n",
    "plt.xticks(ticks=np.arange(385, 541, 31), rotation=45)\n",
    "plt.yticks(ticks=np.arange(0, 50, 5), rotation=45)\n",
    "# Remove the top and right spines\n",
    "sns.despine(trim=True, offset={'left': 10, 'bottom': 2})\n",
    "\n",
    "# Adjust the layout to make room for the rotated labels\n",
    "#plt.tight_layout()\n",
    "\n",
    "# Add the legend\n",
    "plt.legend(loc='upper right')\n",
    "plt.gca().spines['top'].set_linewidth(0.625)\n",
    "plt.gca().spines['right'].set_linewidth(0.625)\n",
    "plt.gca().spines['bottom'].set_linewidth(0.625)\n",
    "plt.gca().spines['left'].set_linewidth(0.625)\n",
    "#save_path = os.path.join(dirPath, '240219_barcode array stablitity.svg')\n",
    "#plt.savefig(save_path, dpi=300, format='svg', transparent=True)\n",
    "# Show the plot\n",
    "plt.show()"
   ]
  },
  {
   "cell_type": "code",
   "execution_count": null,
   "metadata": {},
   "outputs": [],
   "source": []
  }
 ],
 "metadata": {
  "colab": {
   "provenance": []
  },
  "kernelspec": {
   "display_name": "Python 3 (ipykernel)",
   "language": "python",
   "name": "python3"
  },
  "language_info": {
   "codemirror_mode": {
    "name": "ipython",
    "version": 3
   },
   "file_extension": ".py",
   "mimetype": "text/x-python",
   "name": "python",
   "nbconvert_exporter": "python",
   "pygments_lexer": "ipython3",
   "version": "3.8.16"
  }
 },
 "nbformat": 4,
 "nbformat_minor": 4
}
